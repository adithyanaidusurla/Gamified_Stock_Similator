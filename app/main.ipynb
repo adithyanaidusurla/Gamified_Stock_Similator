{
 "cells": [
  {
   "cell_type": "code",
   "execution_count": 1,
   "id": "f48f9db5-01e2-4849-92b2-73a189a3bf7b",
   "metadata": {},
   "outputs": [],
   "source": [
    "#!/usr/bin/env python\n",
    "# coding: utf-8\n",
    "\n",
    "# In[1]: Install required packages (if not done already)\n",
    "# Uncomment & run this if needed\n",
    "# !pip install fastapi uvicorn nbimporter python-dotenv"
   ]
  },
  {
   "cell_type": "code",
   "execution_count": 2,
   "id": "0e37bd12-c870-45dc-a173-05e257d2f2fd",
   "metadata": {},
   "outputs": [],
   "source": [
    "import sys\n",
    "import os\n",
    "sys.path.append(os.path.abspath(os.path.join(os.getcwd(), 'app')))"
   ]
  },
  {
   "cell_type": "code",
   "execution_count": 3,
   "id": "d517de94-a311-4953-9a09-d680d571c7b2",
   "metadata": {},
   "outputs": [],
   "source": [
    "\n",
    "# In[2]: Imports\n",
    "from fastapi import FastAPI\n",
    "from fastapi.middleware.cors import CORSMiddleware\n"
   ]
  },
  {
   "cell_type": "code",
   "execution_count": 4,
   "id": "a15f8ec4-9265-49b7-8495-7392dc872c2e",
   "metadata": {},
   "outputs": [
    {
     "name": "stdout",
     "output_type": "stream",
     "text": [
      "✅ Database connection established successfully.\n",
      "[NbConvertApp] Converting notebook /Users/adithya/Desktop/stock_trading_sim/app/database.ipynb to script\n",
      "[NbConvertApp] Writing 878 bytes to /Users/adithya/Desktop/stock_trading_sim/app/database.py\n",
      "Requirement already satisfied: sqlalchemy in /opt/anaconda3/lib/python3.12/site-packages (2.0.34)\n",
      "Requirement already satisfied: psycopg2 in /opt/anaconda3/lib/python3.12/site-packages (2.9.10)\n",
      "Requirement already satisfied: python-dotenv in /opt/anaconda3/lib/python3.12/site-packages (0.21.0)\n",
      "Requirement already satisfied: typing-extensions>=4.6.0 in /opt/anaconda3/lib/python3.12/site-packages (from sqlalchemy) (4.11.0)\n",
      "Requirement already satisfied: nbimporter in /opt/anaconda3/lib/python3.12/site-packages (0.3.4)\n",
      "✅ Database tables created successfully!\n",
      "[NbConvertApp] Converting notebook /Users/adithya/Desktop/stock_trading_sim/app/models.ipynb to script\n",
      "[NbConvertApp] Writing 4094 bytes to /Users/adithya/Desktop/stock_trading_sim/app/models.py\n"
     ]
    },
    {
     "name": "stderr",
     "output_type": "stream",
     "text": [
      "/opt/anaconda3/lib/python3.12/site-packages/pydantic/_internal/_config.py:341: UserWarning: Valid config keys have changed in V2:\n",
      "* 'orm_mode' has been renamed to 'from_attributes'\n",
      "  warnings.warn(message, UserWarning)\n"
     ]
    },
    {
     "name": "stdout",
     "output_type": "stream",
     "text": [
      "[NbConvertApp] Converting notebook /Users/adithya/Desktop/stock_trading_sim/app/schemas.ipynb to script\n",
      "[NbConvertApp] Writing 2084 bytes to /Users/adithya/Desktop/stock_trading_sim/app/schemas.py\n",
      "[NbConvertApp] Converting notebook /Users/adithya/Desktop/stock_trading_sim/app/routes/users.ipynb to script\n",
      "[NbConvertApp] Writing 2843 bytes to /Users/adithya/Desktop/stock_trading_sim/app/routes/users.py\n",
      "[NbConvertApp] Converting notebook /Users/adithya/Desktop/stock_trading_sim/app/routes/ai.ipynb to script\n",
      "[NbConvertApp] Writing 3400 bytes to /Users/adithya/Desktop/stock_trading_sim/app/routes/ai.py\n"
     ]
    }
   ],
   "source": [
    "# Import routers\n",
    "from routes import users, trading, ai"
   ]
  },
  {
   "cell_type": "code",
   "execution_count": 5,
   "id": "5678d4c2-dd5e-45a9-adca-2b7d01568be9",
   "metadata": {},
   "outputs": [],
   "source": [
    "# In[3]: App Initialization\n",
    "app = FastAPI(\n",
    "    title=\"📈 Stock Trading Simulation API\",\n",
    "    description=\"Simulate trading, get AI insights, and level up as a trader!\",\n",
    "    version=\"1.0.0\"\n",
    ")\n",
    "\n",
    "# In[4]: CORS Middleware (optional but useful if frontend is involved)\n",
    "app.add_middleware(\n",
    "    CORSMiddleware,\n",
    "    allow_origins=[\"*\"],  # Change this to specific domains in production\n",
    "    allow_credentials=True,\n",
    "    allow_methods=[\"*\"],\n",
    "    allow_headers=[\"*\"],\n",
    ")\n",
    "\n",
    "# In[5]: Include Routers\n",
    "app.include_router(users.router, prefix=\"/users\", tags=[\"Users\"])\n",
    "app.include_router(trading.router, prefix=\"/trading\", tags=[\"Trading\"])\n",
    "app.include_router(ai.router, prefix=\"/ai\", tags=[\"AI & Insights\"])\n",
    "\n",
    "# In[6]: Root Route\n",
    "@app.get(\"/\")\n",
    "def root():\n",
    "    return {\"message\": \"🚀 Stock Trading Simulation API is running!\"}"
   ]
  },
  {
   "cell_type": "code",
   "execution_count": 6,
   "id": "bb04070c-3e8a-41dd-82be-d9921ec116d6",
   "metadata": {},
   "outputs": [],
   "source": [
    "# In[7]: Run using uvicorn (Don't run this in notebook, only in .py file or terminal)\n",
    "# Save as main.py and run via terminal: uvicorn app.main:app --reload"
   ]
  },
  {
   "cell_type": "code",
   "execution_count": 17,
   "id": "13ff8961-883f-4257-81ea-52df9877c502",
   "metadata": {},
   "outputs": [
    {
     "name": "stdout",
     "output_type": "stream",
     "text": [
      "[NbConvertApp] Converting notebook main.ipynb to script\n",
      "[NbConvertApp] Writing 1680 bytes to main.py\n"
     ]
    }
   ],
   "source": [
    "# !jupyter nbconvert --to script ~/Desktop/stock_trading_sim/app/main.ipynb\n",
    "\n",
    "try:\n",
    "    get_ipython().system('jupyter nbconvert --to script main.ipynb')\n",
    "except:\n",
    "    pass\n"
   ]
  }
 ],
 "metadata": {
  "kernelspec": {
   "display_name": "Python [conda env:base] *",
   "language": "python",
   "name": "conda-base-py"
  },
  "language_info": {
   "codemirror_mode": {
    "name": "ipython",
    "version": 3
   },
   "file_extension": ".py",
   "mimetype": "text/x-python",
   "name": "python",
   "nbconvert_exporter": "python",
   "pygments_lexer": "ipython3",
   "version": "3.12.7"
  }
 },
 "nbformat": 4,
 "nbformat_minor": 5
}
