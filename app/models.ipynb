{
 "cells": [
  {
   "cell_type": "code",
   "execution_count": 1,
   "id": "4bf5d9a8-3a27-41b9-a685-2529464e4509",
   "metadata": {},
   "outputs": [],
   "source": [
    "import sys\n",
    "import os\n",
    "sys.path.append(os.path.abspath(os.path.join(os.getcwd(), 'app')))"
   ]
  },
  {
   "cell_type": "code",
   "execution_count": 2,
   "id": "b2a3ec73-4c1d-4f72-9cd8-1a1c932c8f3f",
   "metadata": {},
   "outputs": [],
   "source": [
    "# !pip install sqlalchemy psycopg2 python-dotenv"
   ]
  },
  {
   "cell_type": "code",
   "execution_count": 3,
   "id": "4b4c4f34-f538-4690-bfe1-99b04ae71fde",
   "metadata": {},
   "outputs": [],
   "source": [
    "# !pip install nbimporter\n"
   ]
  },
  {
   "cell_type": "code",
   "execution_count": 4,
   "id": "b322f33c-a9a5-4093-aef3-8ad2c3db07ad",
   "metadata": {},
   "outputs": [
    {
     "name": "stdout",
     "output_type": "stream",
     "text": [
      "✅ Database connection established successfully.\n",
      "[NbConvertApp] Converting notebook database.ipynb to script\n",
      "[NbConvertApp] Writing 1054 bytes to database.py\n"
     ]
    }
   ],
   "source": [
    "import uuid\n",
    "from sqlalchemy import Column, String, Integer, Float, ForeignKey, Text, Boolean, DateTime, func\n",
    "from sqlalchemy.dialects.postgresql import UUID\n",
    "from sqlalchemy.orm import relationship\n",
    "\n",
    "from database import Base\n"
   ]
  },
  {
   "cell_type": "code",
   "execution_count": 5,
   "id": "2a87ad31-00ee-4ee0-b9c4-dbeafc40a940",
   "metadata": {},
   "outputs": [],
   "source": [
    "# user model table\n",
    "class User(Base):\n",
    "    __tablename__ = \"users\"\n",
    "\n",
    "    id = Column(UUID(as_uuid=True), primary_key=True, default=uuid.uuid4)\n",
    "    username = Column(String(100), nullable=False, unique=True)\n",
    "    email = Column(String(255), nullable=False, unique=True)\n",
    "    password = Column(Text, nullable=False)  # Hashed password\n",
    "    level = Column(Integer, default=1)  # User level in trading\n",
    "    created_at = Column(DateTime, server_default=func.now())\n",
    "\n",
    "    # Relationships\n",
    "    trades = relationship(\"TradeTransaction\", back_populates=\"user\")\n",
    "    predictions = relationship(\"StockPrediction\", back_populates=\"user\")\n",
    "    feedbacks = relationship(\"AI_Feedback\", back_populates=\"user\")\n",
    "    balance = relationship(\"SCoinBalance\", uselist=False, back_populates=\"user\")\n"
   ]
  },
  {
   "cell_type": "code",
   "execution_count": 6,
   "id": "9b21f751-8023-420c-b24d-b99d626fc33e",
   "metadata": {},
   "outputs": [],
   "source": [
    "# TradeTransaction Model\n",
    "# This table stores buy/sell transactions.\n",
    "class TradeTransaction(Base):\n",
    "    __tablename__ = \"trade_transactions\"\n",
    "\n",
    "    id = Column(UUID(as_uuid=True), primary_key=True, default=uuid.uuid4)\n",
    "    user_id = Column(UUID(as_uuid=True), ForeignKey(\"users.id\"), nullable=False)\n",
    "    stock_name = Column(String(100), nullable=False)\n",
    "    trade_type = Column(String(10), nullable=False)  # \"Buy\" or \"Sell\"\n",
    "    price = Column(Float, nullable=False)\n",
    "    quantity = Column(Integer, nullable=False)\n",
    "    total_value = Column(Float, nullable=False)  # price * quantity\n",
    "    trade_time = Column(DateTime, server_default=func.now())\n",
    "\n",
    "    # Relationship\n",
    "    user = relationship(\"User\", back_populates=\"trades\")\n"
   ]
  },
  {
   "cell_type": "code",
   "execution_count": 7,
   "id": "f6f8d584-f899-41f3-b571-a26bdfda2e2a",
   "metadata": {},
   "outputs": [],
   "source": [
    "# SCoinBalance Model\n",
    "# This table tracks S Coins balance for users.\n",
    "\n",
    "class SCoinBalance(Base):\n",
    "    __tablename__ = \"s_coin_balance\"\n",
    "\n",
    "    id = Column(UUID(as_uuid=True), primary_key=True, default=uuid.uuid4)\n",
    "    user_id = Column(UUID(as_uuid=True), ForeignKey(\"users.id\"), nullable=False, unique=True)\n",
    "    balance = Column(Float, default=10000.0)  # Default starting balance of 10,000 S Coins\n",
    "\n",
    "    # Relationship\n",
    "    user = relationship(\"User\", back_populates=\"balance\")"
   ]
  },
  {
   "cell_type": "code",
   "execution_count": 8,
   "id": "30b53419-6ae0-4b9d-a3f0-06da8700349f",
   "metadata": {},
   "outputs": [],
   "source": [
    "# StockPrediction Model\n",
    "# This stores stock predictions made by users.\n",
    "\n",
    "class StockPrediction(Base):\n",
    "    __tablename__ = \"stock_predictions\"\n",
    "\n",
    "    id = Column(UUID(as_uuid=True), primary_key=True, default=uuid.uuid4)\n",
    "    user_id = Column(UUID(as_uuid=True), ForeignKey(\"users.id\"), nullable=False)\n",
    "    stock_name = Column(String(100), nullable=False)\n",
    "    predicted_price = Column(Float, nullable=False)\n",
    "    prediction_reason = Column(Text, nullable=False)  # User explanation\n",
    "    strategy_used = Column(Text, nullable=False)  # Trading strategy applied\n",
    "    created_at = Column(DateTime, server_default=func.now())\n",
    "\n",
    "    # Relationship\n",
    "    user = relationship(\"User\", back_populates=\"predictions\")"
   ]
  },
  {
   "cell_type": "code",
   "execution_count": 9,
   "id": "26ac780c-5121-4371-a1d4-489cb0639c8f",
   "metadata": {},
   "outputs": [],
   "source": [
    "# AI_Feedback Model\n",
    "# Stores AI-generated feedback on predictions.\n",
    "\n",
    "class AI_Feedback(Base):\n",
    "    __tablename__ = \"ai_feedback\"\n",
    "\n",
    "    id = Column(UUID(as_uuid=True), primary_key=True, default=uuid.uuid4)\n",
    "    user_id = Column(UUID(as_uuid=True), ForeignKey(\"users.id\"), nullable=False)\n",
    "    prediction_id = Column(UUID(as_uuid=True), ForeignKey(\"stock_predictions.id\"), nullable=False)\n",
    "    feedback = Column(Text, nullable=False)\n",
    "    accuracy_score = Column(Float, nullable=False)  # Score (0-100%)\n",
    "    level_up = Column(Boolean, default=False)  # Should the user level up?\n",
    "\n",
    "    # Relationship\n",
    "    user = relationship(\"User\", back_populates=\"feedbacks\")"
   ]
  },
  {
   "cell_type": "code",
   "execution_count": 10,
   "id": "d3d98eaf-81bb-402f-9c6f-5234ff276477",
   "metadata": {},
   "outputs": [
    {
     "name": "stdout",
     "output_type": "stream",
     "text": [
      "✅ Database tables created successfully!\n"
     ]
    }
   ],
   "source": [
    "# Create Tables in PostgreSQL\n",
    "# Run this in models.ipynb to create tables:\n",
    "\n",
    "from database import engine\n",
    "\n",
    "Base.metadata.create_all(bind=engine)\n",
    "print(\"✅ Database tables created successfully!\")\n"
   ]
  },
  {
   "cell_type": "code",
   "execution_count": 27,
   "id": "fbf0c211-d1f0-4186-95ad-252264533ee5",
   "metadata": {},
   "outputs": [
    {
     "name": "stdout",
     "output_type": "stream",
     "text": [
      "[NbConvertApp] Converting notebook models.ipynb to script\n",
      "[NbConvertApp] Writing 4232 bytes to models.py\n"
     ]
    }
   ],
   "source": [
    "# !jupyter nbconvert --to script ~/Desktop/stock_trading_sim/app/models.ipynb\n",
    "\n",
    "try:\n",
    "    get_ipython().system('jupyter nbconvert --to script models.ipynb')\n",
    "except:\n",
    "    pass\n",
    "    "
   ]
  }
 ],
 "metadata": {
  "kernelspec": {
   "display_name": "Python [conda env:base] *",
   "language": "python",
   "name": "conda-base-py"
  },
  "language_info": {
   "codemirror_mode": {
    "name": "ipython",
    "version": 3
   },
   "file_extension": ".py",
   "mimetype": "text/x-python",
   "name": "python",
   "nbconvert_exporter": "python",
   "pygments_lexer": "ipython3",
   "version": "3.12.7"
  }
 },
 "nbformat": 4,
 "nbformat_minor": 5
}
