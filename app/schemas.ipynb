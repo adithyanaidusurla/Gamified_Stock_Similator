{
 "cells": [
  {
   "cell_type": "code",
   "execution_count": 2,
   "id": "d5f348cd-5e78-4c47-a8ff-4d1ece9ac2d3",
   "metadata": {},
   "outputs": [],
   "source": [
    "import sys\n",
    "import os\n",
    "sys.path.append(os.path.abspath(os.path.join(os.getcwd(), 'app')))"
   ]
  },
  {
   "cell_type": "code",
   "execution_count": 3,
   "id": "19afeb41-8953-4485-afba-22ab1699db3e",
   "metadata": {},
   "outputs": [],
   "source": [
    "from pydantic import BaseModel, EmailStr, Field\n",
    "from typing import Optional, List\n",
    "from uuid import UUID\n",
    "from datetime import datetime"
   ]
  },
  {
   "cell_type": "code",
   "execution_count": 4,
   "id": "21a07743-e729-479e-b4df-57ec10939927",
   "metadata": {},
   "outputs": [],
   "source": [
    "#  User Schemas\n",
    "\n",
    "class UserCreate(BaseModel):\n",
    "    username: str = Field(..., max_length=100)\n",
    "    email: EmailStr\n",
    "    password: str\n",
    "\n",
    "class UserLogin(BaseModel):\n",
    "    email: EmailStr\n",
    "    password: str\n",
    "\n",
    "class UserResponse(BaseModel):\n",
    "    id: UUID\n",
    "    username: str\n",
    "    email: EmailStr\n",
    "    level: int\n",
    "    created_at: datetime\n",
    "\n",
    "    class Config:\n",
    "        from_attributes = True\n"
   ]
  },
  {
   "cell_type": "code",
   "execution_count": 5,
   "id": "a08036b4-1251-46db-837d-9f425bd24a58",
   "metadata": {},
   "outputs": [],
   "source": [
    "# S Coin Balance Schema\n",
    "\n",
    "class SCoinBalanceResponse(BaseModel):\n",
    "    user_id: UUID\n",
    "    balance: float\n",
    "\n",
    "    class Config:\n",
    "        from_attributes = True\n"
   ]
  },
  {
   "cell_type": "code",
   "execution_count": 6,
   "id": "958f59f9-da66-4540-8c11-6ad98dc469dd",
   "metadata": {},
   "outputs": [
    {
     "name": "stderr",
     "output_type": "stream",
     "text": [
      "/opt/anaconda3/lib/python3.12/site-packages/pydantic/_internal/_config.py:341: UserWarning: Valid config keys have changed in V2:\n",
      "* 'orm_mode' has been renamed to 'from_attributes'\n",
      "  warnings.warn(message, UserWarning)\n"
     ]
    }
   ],
   "source": [
    "# Trade Schemas\n",
    "\n",
    "class TradeCreate(BaseModel):\n",
    "    user_id: UUID\n",
    "    stock_symbol: str\n",
    "    trade_type: str\n",
    "    amount: float\n",
    "    price: float\n",
    "\n",
    "class TradeResponse(BaseModel):\n",
    "    id: UUID\n",
    "    user_id: UUID\n",
    "    stock_symbol: str\n",
    "    trade_type: str\n",
    "    amount: float\n",
    "    price: float\n",
    "    timestamp: datetime\n",
    "    class Config:\n",
    "        orm_mode = True"
   ]
  },
  {
   "cell_type": "code",
   "execution_count": 7,
   "id": "ef0078b0-6e87-4da8-8137-3215799a3949",
   "metadata": {},
   "outputs": [],
   "source": [
    "# Stock Prediction Schemas\n",
    "\n",
    "class PredictionCreate(BaseModel):\n",
    "    stock_name: str\n",
    "    predicted_price: float\n",
    "    prediction_reason: str\n",
    "    strategy_used: str\n",
    "\n",
    "class PredictionResponse(BaseModel):\n",
    "    id: UUID\n",
    "    user_id: UUID\n",
    "    stock_name: str\n",
    "    predicted_price: float\n",
    "    prediction_reason: str\n",
    "    strategy_used: str\n",
    "    created_at: datetime\n",
    "\n",
    "    class Config:\n",
    "        from_attributes = True\n"
   ]
  },
  {
   "cell_type": "code",
   "execution_count": 8,
   "id": "38d329fd-1684-4e8d-9621-38ef1214adc4",
   "metadata": {},
   "outputs": [],
   "source": [
    "# AI Feedback Schemas\n",
    "\n",
    "class AIFeedbackCreate(BaseModel):\n",
    "    prediction_id: UUID\n",
    "    feedback: str\n",
    "    accuracy_score: float\n",
    "    level_up: bool\n",
    "\n",
    "class AIFeedbackResponse(BaseModel):\n",
    "    id: UUID\n",
    "    user_id: UUID\n",
    "    prediction_id: UUID\n",
    "    feedback: str\n",
    "    accuracy_score: float\n",
    "    level_up: bool\n",
    "\n",
    "    class Config:\n",
    "        orm_mode = True"
   ]
  },
  {
   "cell_type": "code",
   "execution_count": 9,
   "id": "b215216f-bb27-42ac-b9a8-5cc07148aa7b",
   "metadata": {},
   "outputs": [],
   "source": [
    "# (Optional) General Response Messages\n",
    "\n",
    "class MessageResponse(BaseModel):\n",
    "    message: str"
   ]
  },
  {
   "cell_type": "code",
   "execution_count": 20,
   "id": "b2a4d0e3-8b36-473a-894e-29bf16e16170",
   "metadata": {},
   "outputs": [
    {
     "name": "stdout",
     "output_type": "stream",
     "text": [
      "[NbConvertApp] Converting notebook schemas.ipynb to script\n",
      "[NbConvertApp] Writing 2264 bytes to schemas.py\n"
     ]
    }
   ],
   "source": [
    "# !jupyter nbconvert --to script ~/Desktop/stock_trading_sim/app/schemas.ipynb\n",
    "\n",
    "try:\n",
    "    get_ipython().system('jupyter nbconvert --to script schemas.ipynb')\n",
    "except:\n",
    "    pass\n",
    "    "
   ]
  }
 ],
 "metadata": {
  "kernelspec": {
   "display_name": "Python [conda env:base] *",
   "language": "python",
   "name": "conda-base-py"
  },
  "language_info": {
   "codemirror_mode": {
    "name": "ipython",
    "version": 3
   },
   "file_extension": ".py",
   "mimetype": "text/x-python",
   "name": "python",
   "nbconvert_exporter": "python",
   "pygments_lexer": "ipython3",
   "version": "3.12.7"
  }
 },
 "nbformat": 4,
 "nbformat_minor": 5
}
