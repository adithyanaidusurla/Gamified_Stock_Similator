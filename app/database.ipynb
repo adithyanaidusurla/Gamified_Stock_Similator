{
 "cells": [
  {
   "cell_type": "code",
   "execution_count": 1,
   "id": "78bf0068-094f-4397-95f2-7f8d7d2f39d0",
   "metadata": {},
   "outputs": [],
   "source": [
    "import sys\n",
    "import os\n",
    "sys.path.append(os.path.abspath(os.path.join(os.getcwd(), 'app')))"
   ]
  },
  {
   "cell_type": "code",
   "execution_count": 2,
   "id": "1fe2ba18-35a4-47ee-ba33-13891c4814cc",
   "metadata": {},
   "outputs": [],
   "source": [
    "# DATABASE CONNECTION SETUP (Jupyter notebook version)\n",
    "\n",
    "from sqlalchemy import create_engine\n",
    "from sqlalchemy.orm import sessionmaker, declarative_base\n",
    "import os\n",
    "from dotenv import load_dotenv"
   ]
  },
  {
   "cell_type": "code",
   "execution_count": 3,
   "id": "d03330e1-3d9d-4d96-a756-702aae5ea9dc",
   "metadata": {},
   "outputs": [
    {
     "data": {
      "text/plain": [
       "True"
      ]
     },
     "execution_count": 3,
     "metadata": {},
     "output_type": "execute_result"
    }
   ],
   "source": [
    "\n",
    "# Load .env file\n",
    "load_dotenv()"
   ]
  },
  {
   "cell_type": "code",
   "execution_count": 4,
   "id": "9933faf2-ce03-4154-810b-68c6680cf1da",
   "metadata": {},
   "outputs": [],
   "source": [
    "\n",
    "# Read database URL from environment\n",
    "DATABASE_URL = os.getenv(\"DATABASE_URL\")"
   ]
  },
  {
   "cell_type": "code",
   "execution_count": 5,
   "id": "9f551966-6e12-4bc7-ab3e-8d5b274cbef4",
   "metadata": {},
   "outputs": [],
   "source": [
    "\n",
    "# SQLAlchemy setup\n",
    "engine = create_engine(DATABASE_URL)\n",
    "SessionLocal = sessionmaker(autocommit=False, autoflush=False, bind=engine)\n",
    "Base = declarative_base()"
   ]
  },
  {
   "cell_type": "code",
   "execution_count": 6,
   "id": "23d1c9b7-7b4f-4272-9346-8995013203a4",
   "metadata": {},
   "outputs": [
    {
     "name": "stdout",
     "output_type": "stream",
     "text": [
      "✅ Database connection established successfully.\n"
     ]
    }
   ],
   "source": [
    "print(\"✅ Database connection established successfully.\")\n"
   ]
  },
  {
   "cell_type": "code",
   "execution_count": 7,
   "id": "167859a7-1812-4f2f-afbb-c119862fe054",
   "metadata": {},
   "outputs": [],
   "source": [
    "from sqlalchemy.orm import Session\n",
    "def get_db():\n",
    "    db = SessionLocal()\n",
    "    try:\n",
    "        yield db\n",
    "    finally:\n",
    "        db.close()"
   ]
  },
  {
   "cell_type": "code",
   "execution_count": 17,
   "id": "37d7fed2-66a3-46ea-940a-182c1e7a615e",
   "metadata": {},
   "outputs": [
    {
     "name": "stdout",
     "output_type": "stream",
     "text": [
      "[NbConvertApp] Converting notebook database.ipynb to script\n",
      "[NbConvertApp] Writing 1053 bytes to database.py\n"
     ]
    }
   ],
   "source": [
    "# !jupyter nbconvert --to script ~/Desktop/stock_trading_sim/app/database.ipynb\n",
    "\n",
    "try:\n",
    "    get_ipython().system('jupyter nbconvert --to script database.ipynb')\n",
    "except:\n",
    "    pass"
   ]
  }
 ],
 "metadata": {
  "kernelspec": {
   "display_name": "Python [conda env:base] *",
   "language": "python",
   "name": "conda-base-py"
  },
  "language_info": {
   "codemirror_mode": {
    "name": "ipython",
    "version": 3
   },
   "file_extension": ".py",
   "mimetype": "text/x-python",
   "name": "python",
   "nbconvert_exporter": "python",
   "pygments_lexer": "ipython3",
   "version": "3.12.7"
  }
 },
 "nbformat": 4,
 "nbformat_minor": 5
}
